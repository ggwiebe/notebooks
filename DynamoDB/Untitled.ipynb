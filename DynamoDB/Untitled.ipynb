{
 "cells": [
  {
   "cell_type": "markdown",
   "metadata": {},
   "source": [
    "## Create Table to hold data"
   ]
  },
  {
   "cell_type": "code",
   "execution_count": null,
   "metadata": {
    "slideshow": {
     "slide_type": "subslide"
    }
   },
   "outputs": [],
   "source": [
    "import boto3\n",
    "\n",
    "# Get the service resource.\n",
    "dynamodb = boto3.resource('dynamodb')\n",
    "\n",
    "# Create the DynamoDB table.\n",
    "table = dynamodb.create_table(\n",
    "    AttributeDefinitions=[\n",
    "        {\n",
    "            \"AttributeName\": \"Country\",\n",
    "            \"AttributeType\": \"S\"\n",
    "        },\n",
    "        {\n",
    "            \"AttributeName\": \"StateCityPostcode\",\n",
    "            \"AttributeType\": \"S\"\n",
    "        },\n",
    "        {\n",
    "            \"AttributeName\": \"StoreNumber\",\n",
    "            \"AttributeType\": \"S\"\n",
    "        }\n",
    "    ],\n",
    "    TableName=\"StarbucksLocations\",\n",
    "    KeySchema=[\n",
    "        {\n",
    "            \"AttributeName\": \"StoreNumber\",\n",
    "            \"KeyType\": \"HASH\"\n",
    "        }\n",
    "    ],\n",
    "    GlobalSecondaryIndexes=[\n",
    "        {\n",
    "            \"IndexName\": \"StoreLocationIndex\",\n",
    "            \"KeySchema\": [\n",
    "                {\n",
    "                    \"AttributeName\": \"Country\",\n",
    "                    \"KeyType\": \"HASH\"\n",
    "                },\n",
    "                {\n",
    "                    \"AttributeName\": \"StateCityPostcode\",\n",
    "                    \"KeyType\": \"RANGE\"\n",
    "                }\n",
    "            ],\n",
    "            \"Projection\": {\n",
    "                \"ProjectionType\": \"ALL\"\n",
    "            },\n",
    "            \"ProvisionedThroughput\": {\n",
    "                \"ReadCapacityUnits\": 1,\n",
    "                \"WriteCapacityUnits\": 1\n",
    "            }\n",
    "        },\n",
    "    ],\n",
    "    ProvisionedThroughput={\n",
    "        \"ReadCapacityUnits\": 1,\n",
    "        \"WriteCapacityUnits\": 1\n",
    "    }\n",
    ")\n",
    "\n",
    "# Wait until the table exists.\n",
    "table.meta.client.get_waiter('table_exists').wait(TableName='users')\n",
    "\n",
    "# Print out some data about the table.\n",
    "print(table.item_count)\n",
    "\n",
    "# -----------\n",
    "#try:\n",
    "#    resp = client.create_table(\n",
    "#    print(\"Table created successfully!\")\n",
    "#except Exception as e:\n",
    "#    print(\"Error creating table:\")\n",
    "#    print(e)"
   ]
  },
  {
   "cell_type": "code",
   "execution_count": null,
   "metadata": {},
   "outputs": [],
   "source": []
  }
 ],
 "metadata": {
  "kernelspec": {
   "display_name": "Python 3",
   "language": "python",
   "name": "python3"
  },
  "language_info": {
   "codemirror_mode": {
    "name": "ipython",
    "version": 3
   },
   "file_extension": ".py",
   "mimetype": "text/x-python",
   "name": "python",
   "nbconvert_exporter": "python",
   "pygments_lexer": "ipython3",
   "version": "3.6.5"
  }
 },
 "nbformat": 4,
 "nbformat_minor": 2
}
