{
 "cells": [
  {
   "cell_type": "markdown",
   "metadata": {},
   "source": [
    "# Teradata Python Module - dependency injection\n",
    "\n",
    "This takes the hello world example and externalizes the configuration\n",
    "\n",
    "## Step 1. import the Teradata Python library"
   ]
  },
  {
   "cell_type": "code",
   "execution_count": null,
   "metadata": {},
   "outputs": [],
   "source": [
    "import teradata"
   ]
  },
  {
   "cell_type": "markdown",
   "metadata": {},
   "source": [
    "## Step 2.  Initialize UDA Exec Framework\n",
    "This invocation mechanism does not supply configuration information, instead it dynamically receives its configuration information from the udaexec.ini config file.\n",
    "\n",
    "### Config locations\n",
    "The udaexec.ini search locations are: /etc --> users/glenn --> current runtime directory\n",
    "#### systemConfigFile\n",
    "The system wide configuration file(s).  Can be a single value or a list.  \n",
    "\"/etc/udaexec.ini\"\n",
    "#### userConfigFile\n",
    "The user specific configuration file(s).  Can be a single value or a list.  \n",
    "\"~/udaexec.ini\" or \"%HOMEPATH%/udaexec.ini\"\n",
    "#### appConfigFile\n",
    "The application specific configuration file (s).  Can be a single value or a list. \n",
    "\"udaexec.ini\"\n",
    "\n",
    "Configuration data is loaded in the order shown above, from least specific to most specific, with later configuration files overriding the values specified by earlier configuration files when conflicts occur."
   ]
  },
  {
   "cell_type": "code",
   "execution_count": null,
   "metadata": {},
   "outputs": [],
   "source": [
    "udaExec = teradata.UdaExec()\n",
    "#udaExec = teradata.UdaExec (appConfigFile=\"PrintTableRows.ini\")\n",
    "print( udaExec.config[\"datatable\"])"
   ]
  },
  {
   "cell_type": "markdown",
   "metadata": {},
   "source": [
    "## Step 3. Connect with\n",
    "In this case we connect \"with\" so that the udaExec.connect() method is closed after the for loop."
   ]
  },
  {
   "cell_type": "code",
   "execution_count": null,
   "metadata": {},
   "outputs": [],
   "source": [
    "with udaExec.connect(\"${dataSourceName}\") as session: \n",
    "    for row in session.execute(\"SELECT * FROM ${systable}\"):\n",
    "        print(row)"
   ]
  },
  {
   "cell_type": "code",
   "execution_count": null,
   "metadata": {},
   "outputs": [],
   "source": [
    "with udaExec.connect(\"${dataSourceName}\") as session: \n",
    "    for row in session.execute('SELECT * FROM ${datatable} ORDER BY \"Month\"'):\n",
    "        print(row)"
   ]
  },
  {
   "cell_type": "markdown",
   "metadata": {},
   "source": [
    "## Step 4. Adjust udaExec config and re-execute\n",
    "The udaExec config property can be adjusted and used in a subsequent call"
   ]
  },
  {
   "cell_type": "code",
   "execution_count": 10,
   "metadata": {},
   "outputs": [
    {
     "name": "stdout",
     "output_type": "stream",
     "text": [
      "Row 1: [1, Glenn                                                                                                                           ]\n",
      "Row 2: [2, Karen                                                                                                                           ]\n",
      "Row 3: [3, Charlotte                                                                                                                       ]\n",
      "Row 4: [4, Aidan                                                                                                                           ]\n"
     ]
    }
   ],
   "source": [
    "udaExec.config[\"datatable\"] = \"Samples.ggwTable\"\n",
    "with udaExec.connect(\"${dataSourceName}\") as session: \n",
    "    for row in session.execute('SELECT * FROM ${datatable} ORDER BY \"ID\"'):\n",
    "        print(row)"
   ]
  },
  {
   "cell_type": "code",
   "execution_count": null,
   "metadata": {},
   "outputs": [],
   "source": []
  }
 ],
 "metadata": {
  "kernelspec": {
   "display_name": "Python 3",
   "language": "python",
   "name": "python3"
  },
  "language_info": {
   "codemirror_mode": {
    "name": "ipython",
    "version": 3
   },
   "file_extension": ".py",
   "mimetype": "text/x-python",
   "name": "python",
   "nbconvert_exporter": "python",
   "pygments_lexer": "ipython3",
   "version": "3.6.5"
  }
 },
 "nbformat": 4,
 "nbformat_minor": 2
}
