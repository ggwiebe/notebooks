{
 "cells": [
  {
   "cell_type": "markdown",
   "metadata": {},
   "source": [
    "# Teradata Python Module - cursor use\n",
    "\n",
    "This takes the hello world external config example and examines use of cursors\n",
    "\n",
    "## Step 1. import the Teradata Python library"
   ]
  },
  {
   "cell_type": "code",
   "execution_count": null,
   "metadata": {},
   "outputs": [],
   "source": [
    "import teradata"
   ]
  },
  {
   "cell_type": "markdown",
   "metadata": {},
   "source": [
    "## Step 2.  Initialize UDA Exec Framework\n",
    "This invocation mechanism does not supply configuration information, instead it dynamically receives its configuration information from the udaexec.ini config file."
   ]
  },
  {
   "cell_type": "code",
   "execution_count": null,
   "metadata": {},
   "outputs": [],
   "source": [
    "udaExec = teradata.UdaExec()\n",
    "#udaExec = teradata.UdaExec (appConfigFile=\"PrintTableRows.ini\")\n",
    "print( udaExec.config[\"datatable\"])"
   ]
  },
  {
   "cell_type": "markdown",
   "metadata": {},
   "source": [
    "## Step 3. Connect with\n",
    "In this case we connect \"with\" so that the udaExec.connect() method is closed after the for loop."
   ]
  },
  {
   "cell_type": "code",
   "execution_count": null,
   "metadata": {},
   "outputs": [],
   "source": [
    "with udaExec.connect(\"${dataSourceName}\") as session: \n",
    "    for row in session.execute(\"SELECT * FROM ${systable}\"):\n",
    "        print(row)"
   ]
  },
  {
   "cell_type": "markdown",
   "metadata": {},
   "source": [
    "## Step 4. Execute using Cursor properties\n",
    "Note the ability to access the columns as row attributes"
   ]
  },
  {
   "cell_type": "code",
   "execution_count": null,
   "metadata": {},
   "outputs": [],
   "source": [
    "with udaExec.connect(\"${dataSourceName}\") as session: \n",
    "    for row in session.execute('SELECT * FROM ${datatable} ORDER BY \"Month\"'):\n",
    "        print(row[0] + \": \" + str(row[1]))\n",
    "        print(row[\"Month\"] + \": \" + str(row[\"#Passengers\"]))\n",
    "        print(row.Month) # Can't use the column name because of the '#' in it!!!"
   ]
  },
  {
   "cell_type": "markdown",
   "metadata": {},
   "source": [
    "### Separate Cursor\n",
    "\n",
    "To execute with a separate cursor, use the \"with session.cursor() as cursor\" command.\n",
    "e.g.:\n"
   ]
  },
  {
   "cell_type": "raw",
   "metadata": {},
   "source": [
    "with udaExec.connect(\"${dataSourceName}\") as session:\n",
    "    with session.cursor() as cursor:\n",
    "        for row in cursor.execute(\"SELECT * from ${tableName}\"):\n",
    "            session.execute(\"DELETE FROM ${tableName} WHERE id = ?\", (row.id, )):"
   ]
  },
  {
   "cell_type": "code",
   "execution_count": null,
   "metadata": {},
   "outputs": [],
   "source": []
  }
 ],
 "metadata": {
  "kernelspec": {
   "display_name": "Python 3",
   "language": "python",
   "name": "python3"
  },
  "language_info": {
   "codemirror_mode": {
    "name": "ipython",
    "version": 3
   },
   "file_extension": ".py",
   "mimetype": "text/x-python",
   "name": "python",
   "nbconvert_exporter": "python",
   "pygments_lexer": "ipython3",
   "version": "3.6.5"
  }
 },
 "nbformat": 4,
 "nbformat_minor": 2
}
