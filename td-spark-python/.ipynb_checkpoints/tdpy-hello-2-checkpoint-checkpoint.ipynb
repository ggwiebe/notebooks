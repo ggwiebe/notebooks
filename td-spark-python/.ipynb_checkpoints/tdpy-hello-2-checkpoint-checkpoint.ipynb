{
 "cells": [
  {
   "cell_type": "markdown",
   "metadata": {},
   "source": [
    "# Teradata Python Module - checkpoint processing\n",
    "\n",
    "This takes the hello world external config example and performs checkpoint processing\n",
    "\n",
    "## Step 1. import the Teradata Python library"
   ]
  },
  {
   "cell_type": "code",
   "execution_count": 1,
   "metadata": {},
   "outputs": [],
   "source": [
    "import teradata"
   ]
  },
  {
   "cell_type": "markdown",
   "metadata": {},
   "source": [
    "## Step 2.  Initialize UDA Exec Framework\n",
    "This invocation mechanism does not supply configuration information, instead it dynamically receives its configuration information from the udaexec.ini config file."
   ]
  },
  {
   "cell_type": "code",
   "execution_count": 2,
   "metadata": {},
   "outputs": [
    {
     "name": "stdout",
     "output_type": "stream",
     "text": [
      "Samples.AirPassengers\n"
     ]
    }
   ],
   "source": [
    "udaExec = teradata.UdaExec()\n",
    "#udaExec = teradata.UdaExec (appConfigFile=\"PrintTableRows.ini\")\n",
    "print( udaExec.config[\"datatable\"])"
   ]
  },
  {
   "cell_type": "markdown",
   "metadata": {},
   "source": [
    "## Step 3. Connect with\n",
    "In this case we connect \"with\" so that the udaExec.connect() method is closed after the for loop."
   ]
  },
  {
   "cell_type": "code",
   "execution_count": 3,
   "metadata": {},
   "outputs": [],
   "source": [
    "with udaExec.connect(\"${dataSourceName}\") as session: \n",
    "    for row in session.execute(\"SELECT * FROM ${systable}\"):\n",
    "        print(row)"
   ]
  },
  {
   "cell_type": "code",
   "execution_count": 4,
   "metadata": {},
   "outputs": [],
   "source": [
    "with udaExec.connect(\"${dataSourceName}\") as session: \n",
    "    for row in session.execute('SELECT * FROM ${datatable} ORDER BY \"Month\"'):\n",
    "        print(row)"
   ]
  },
  {
   "cell_type": "markdown",
   "metadata": {},
   "source": [
    "## Step 4. Run in sequence, with checkpoints\n",
    "to test, run this with just one or a few executions but not all.<br>\n",
    "restart kernel and try run again.<br>\n",
    "First run creates a .checkpoint file;<br>\n",
    "Subsequent run skips all session executions until after prior completed checkpoints "
   ]
  },
  {
   "cell_type": "code",
   "execution_count": 5,
   "metadata": {},
   "outputs": [],
   "source": [
    "with udaExec.connect(\"${dataSourceName}\") as session:\n",
    "    session.execute(\"-- Task 1\")\n",
    "    udaExec.checkpoint(\"Task 1 Complete\")\n",
    "\n",
    "    session.execute(\"-- Task 2\")\n",
    "    udaExec.checkpoint(\"Task 2 Complete\")\n",
    " \n",
    "    session.execute(\"-- Task 3\")\n",
    "    udaExec.checkpoint(\"Task 3 Complete\")\n",
    " \n",
    "    session.execute(\"-- Task 4\")\n",
    "    udaExec.checkpoint(\"Task 4 Complete\")\n",
    "\n",
    "# Script completed successfully, clear checkpoint\n",
    "# so it executes from the beginning next time\n",
    "udaExec.checkpoint()"
   ]
  }
 ],
 "metadata": {
  "kernelspec": {
   "display_name": "Python 3",
   "language": "python",
   "name": "python3"
  },
  "language_info": {
   "codemirror_mode": {
    "name": "ipython",
    "version": 3
   },
   "file_extension": ".py",
   "mimetype": "text/x-python",
   "name": "python",
   "nbconvert_exporter": "python",
   "pygments_lexer": "ipython3",
   "version": "3.6.5"
  }
 },
 "nbformat": 4,
 "nbformat_minor": 2
}
