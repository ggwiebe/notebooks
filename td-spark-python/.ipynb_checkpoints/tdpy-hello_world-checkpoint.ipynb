{
 "cells": [
  {
   "cell_type": "markdown",
   "metadata": {},
   "source": [
    "# Teradata Python Module\n",
    "\n",
    "Installed into Jupyter / Anaconda Python environment using the \"conda install teradata\" command from the Anaconda command shell.\n",
    "\n",
    "## Step 1. import the Teradata Python library"
   ]
  },
  {
   "cell_type": "code",
   "execution_count": 1,
   "metadata": {},
   "outputs": [],
   "source": [
    "import teradata"
   ]
  },
  {
   "cell_type": "markdown",
   "metadata": {},
   "source": [
    "## Step 2.  Initialize UDA Exec Framework\n",
    "The “UdaExec” framework that provides DevOps support features such as configuration and logging.\n",
    "Providing name and version ensures that DBQL and Viewpoint monitoring have proper visibility to our app."
   ]
  },
  {
   "cell_type": "code",
   "execution_count": 3,
   "metadata": {},
   "outputs": [],
   "source": [
    "udaExec = teradata.UdaExec( \\\n",
    "    appName=\"HelloWorld\",\\\n",
    "    version=\"1.0\",\\\n",
    "    logConsole=False\n",
    "    )"
   ]
  },
  {
   "cell_type": "markdown",
   "metadata": {},
   "source": [
    "## Step 3. Connect\n",
    "Setting the connection properties and connecting creates a session."
   ]
  },
  {
   "cell_type": "code",
   "execution_count": 6,
   "metadata": {},
   "outputs": [
    {
     "ename": "InterfaceError",
     "evalue": "('DRIVER_NOT_FOUND', \"No driver found for 'Teradata'.  Available drivers: SQL Server,MySQL ODBC 5.3 ANSI Driver,MySQL ODBC 5.3 Unicode Driver,SQL Server Native Client 10.0,PostgreSQL ANSI(x64),PostgreSQL Unicode(x64),Amazon Redshift (x64)\")",
     "output_type": "error",
     "traceback": [
      "\u001b[1;31m---------------------------------------------------------------------------\u001b[0m",
      "\u001b[1;31mInterfaceError\u001b[0m                            Traceback (most recent call last)",
      "\u001b[1;32m<ipython-input-6-9e833761f753>\u001b[0m in \u001b[0;36m<module>\u001b[1;34m()\u001b[0m\n\u001b[1;32m----> 1\u001b[1;33m \u001b[0msession\u001b[0m \u001b[1;33m=\u001b[0m \u001b[0mudaExec\u001b[0m\u001b[1;33m.\u001b[0m\u001b[0mconnect\u001b[0m\u001b[1;33m(\u001b[0m\u001b[0mmethod\u001b[0m\u001b[1;33m=\u001b[0m\u001b[1;34m\"odbc\"\u001b[0m\u001b[1;33m,\u001b[0m \u001b[0msystem\u001b[0m\u001b[1;33m=\u001b[0m\u001b[1;34m\"tdlocal\"\u001b[0m\u001b[1;33m)\u001b[0m\u001b[1;33m;\u001b[0m\u001b[1;33m\u001b[0m\u001b[0m\n\u001b[0m\u001b[0;32m      2\u001b[0m \u001b[1;31m#session = udaExec.connect(method=\"odbc\", system=\"tdlocal\", username=\"dbc\", password=\"dbc\");\u001b[0m\u001b[1;33m\u001b[0m\u001b[1;33m\u001b[0m\u001b[0m\n",
      "\u001b[1;32mC:\\apps\\Anaconda3\\lib\\site-packages\\teradata\\udaexec.py\u001b[0m in \u001b[0;36mconnect\u001b[1;34m(self, externalDSN, dataTypeConverter, **kwargs)\u001b[0m\n\u001b[0;32m    181\u001b[0m                                          \u001b[0modbcLibPath\u001b[0m\u001b[1;33m=\u001b[0m\u001b[0mself\u001b[0m\u001b[1;33m.\u001b[0m\u001b[0modbcLibPath\u001b[0m\u001b[1;33m,\u001b[0m\u001b[1;33m\u001b[0m\u001b[0m\n\u001b[0;32m    182\u001b[0m                                          \u001b[0mdataTypeConverter\u001b[0m\u001b[1;33m=\u001b[0m\u001b[0mdataTypeConverter\u001b[0m\u001b[1;33m,\u001b[0m\u001b[1;33m\u001b[0m\u001b[0m\n\u001b[1;32m--> 183\u001b[1;33m                                          **args))\n\u001b[0m\u001b[0;32m    184\u001b[0m             \u001b[1;32melse\u001b[0m\u001b[1;33m:\u001b[0m\u001b[1;33m\u001b[0m\u001b[0m\n\u001b[0;32m    185\u001b[0m                 raise api.InterfaceError(\n",
      "\u001b[1;32mC:\\apps\\Anaconda3\\lib\\site-packages\\teradata\\tdodbc.py\u001b[0m in \u001b[0;36m__init__\u001b[1;34m(self, dbType, system, username, password, autoCommit, transactionMode, queryBands, odbcLibPath, dataTypeConverter, driver, **kwargs)\u001b[0m\n\u001b[0;32m    425\u001b[0m         \u001b[0mconnectParams\u001b[0m \u001b[1;33m=\u001b[0m \u001b[0mcollections\u001b[0m\u001b[1;33m.\u001b[0m\u001b[0mOrderedDict\u001b[0m\u001b[1;33m(\u001b[0m\u001b[1;33m)\u001b[0m\u001b[1;33m\u001b[0m\u001b[0m\n\u001b[0;32m    426\u001b[0m         \u001b[1;32mif\u001b[0m \u001b[1;34m\"dsn\"\u001b[0m \u001b[1;32mnot\u001b[0m \u001b[1;32min\u001b[0m \u001b[0mextraParams\u001b[0m\u001b[1;33m:\u001b[0m\u001b[1;33m\u001b[0m\u001b[0m\n\u001b[1;32m--> 427\u001b[1;33m             \u001b[0mconnectParams\u001b[0m\u001b[1;33m[\u001b[0m\u001b[1;34m\"DRIVER\"\u001b[0m\u001b[1;33m]\u001b[0m \u001b[1;33m=\u001b[0m \u001b[0mdetermineDriver\u001b[0m\u001b[1;33m(\u001b[0m\u001b[0mdbType\u001b[0m\u001b[1;33m,\u001b[0m \u001b[0mdriver\u001b[0m\u001b[1;33m)\u001b[0m\u001b[1;33m\u001b[0m\u001b[0m\n\u001b[0m\u001b[0;32m    428\u001b[0m         \u001b[1;32mif\u001b[0m \u001b[0msystem\u001b[0m\u001b[1;33m:\u001b[0m\u001b[1;33m\u001b[0m\u001b[0m\n\u001b[0;32m    429\u001b[0m             \u001b[0mconnectParams\u001b[0m\u001b[1;33m[\u001b[0m\u001b[1;34m\"DBCNAME\"\u001b[0m\u001b[1;33m]\u001b[0m \u001b[1;33m=\u001b[0m \u001b[0msystem\u001b[0m\u001b[1;33m\u001b[0m\u001b[0m\n",
      "\u001b[1;32mC:\\apps\\Anaconda3\\lib\\site-packages\\teradata\\tdodbc.py\u001b[0m in \u001b[0;36mdetermineDriver\u001b[1;34m(dbType, driver)\u001b[0m\n\u001b[0;32m    389\u001b[0m                 \u001b[1;34m\"DRIVER_NOT_FOUND\"\u001b[0m\u001b[1;33m,\u001b[0m\u001b[1;33m\u001b[0m\u001b[0m\n\u001b[0;32m    390\u001b[0m                 \u001b[1;34m\"No driver found for '{}'.  \"\u001b[0m\u001b[1;33m\u001b[0m\u001b[0m\n\u001b[1;32m--> 391\u001b[1;33m                 \"Available drivers: {}\".format(dbType, \",\".join(drivers)))\n\u001b[0m\u001b[0;32m    392\u001b[0m         \u001b[1;32melse\u001b[0m\u001b[1;33m:\u001b[0m\u001b[1;33m\u001b[0m\u001b[0m\n\u001b[0;32m    393\u001b[0m             \u001b[0mretval\u001b[0m \u001b[1;33m=\u001b[0m \u001b[0mmatches\u001b[0m\u001b[1;33m[\u001b[0m\u001b[0mlen\u001b[0m\u001b[1;33m(\u001b[0m\u001b[0mmatches\u001b[0m\u001b[1;33m)\u001b[0m \u001b[1;33m-\u001b[0m \u001b[1;36m1\u001b[0m\u001b[1;33m]\u001b[0m\u001b[1;33m\u001b[0m\u001b[0m\n",
      "\u001b[1;31mInterfaceError\u001b[0m: ('DRIVER_NOT_FOUND', \"No driver found for 'Teradata'.  Available drivers: SQL Server,MySQL ODBC 5.3 ANSI Driver,MySQL ODBC 5.3 Unicode Driver,SQL Server Native Client 10.0,PostgreSQL ANSI(x64),PostgreSQL Unicode(x64),Amazon Redshift (x64)\")"
     ]
    }
   ],
   "source": [
    "session = udaExec.connect(method=\"odbc\", system=\"tdlocal\");\n",
    "#session = udaExec.connect(method=\"odbc\", system=\"tdlocal\", username=\"dbc\", password=\"dbc\");"
   ]
  },
  {
   "cell_type": "code",
   "execution_count": null,
   "metadata": {},
   "outputs": [],
   "source": [
    "for row in session.execute(\"SELECT GetQueryBand()\"):\n",
    "    print(row)"
   ]
  }
 ],
 "metadata": {
  "kernelspec": {
   "display_name": "Python 3",
   "language": "python",
   "name": "python3"
  },
  "language_info": {
   "codemirror_mode": {
    "name": "ipython",
    "version": 3
   },
   "file_extension": ".py",
   "mimetype": "text/x-python",
   "name": "python",
   "nbconvert_exporter": "python",
   "pygments_lexer": "ipython3",
   "version": "3.6.5"
  }
 },
 "nbformat": 4,
 "nbformat_minor": 2
}
