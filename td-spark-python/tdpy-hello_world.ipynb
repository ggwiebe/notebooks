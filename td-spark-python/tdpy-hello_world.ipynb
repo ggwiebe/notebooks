{
 "cells": [
  {
   "cell_type": "markdown",
   "metadata": {},
   "source": [
    "# Teradata Python Module\n",
    "\n",
    "Installed into Jupyter / Anaconda Python environment using the \"conda install teradata\" command from the Anaconda command shell.\n",
    "\n",
    "## Step 1. import the Teradata Python library"
   ]
  },
  {
   "cell_type": "code",
   "execution_count": 1,
   "metadata": {},
   "outputs": [],
   "source": [
    "import teradata"
   ]
  },
  {
   "cell_type": "markdown",
   "metadata": {},
   "source": [
    "## Step 2.  Initialize UDA Exec Framework\n",
    "The “UdaExec” framework that provides DevOps support features such as configuration and logging.\n",
    "Providing name and version ensures that DBQL and Viewpoint monitoring have proper visibility to our app."
   ]
  },
  {
   "cell_type": "code",
   "execution_count": 2,
   "metadata": {},
   "outputs": [],
   "source": [
    "udaExec = teradata.UdaExec( \\\n",
    "    appName=\"HelloWorld\",\\\n",
    "    version=\"1.0\",\\\n",
    "    logConsole=False\n",
    "    )"
   ]
  },
  {
   "cell_type": "markdown",
   "metadata": {},
   "source": [
    "## Step 3. Connect\n",
    "Setting the connection properties and connecting creates a session.\n",
    "\n",
    "Have used the 64 & 32 bit ODBC Data Source applications to create two data sources:\n",
    "- tdlocal\n",
    "- tdlocal32\n",
    "\n",
    "Both have userid and passwords associated, but the connect method does not appear to work with those settings.\n",
    "\n",
    "##### *** Connect does not appear to use the system dsn's as neither of the 32 or 64 dsn's by name work!"
   ]
  },
  {
   "cell_type": "code",
   "execution_count": 6,
   "metadata": {},
   "outputs": [],
   "source": [
    "#session = udaExec.connect(method=\"odbc\", system=\"tdlocal\");\n",
    "#session = udaExec.connect(method=\"odbc\", system=\"tdlocal32\");\n",
    "session = udaExec.connect(method=\"odbc\", system=\"localhost\", username=\"dbc\", password=\"dbc\");"
   ]
  },
  {
   "cell_type": "markdown",
   "metadata": {},
   "source": [
    "## Step 4. Execute queries\n",
    "This query gets information about this session"
   ]
  },
  {
   "cell_type": "code",
   "execution_count": 7,
   "metadata": {},
   "outputs": [
    {
     "name": "stdout",
     "output_type": "stream",
     "text": [
      "Row 1: [=S> ApplicationName=HelloWorld;Version=1.0;JobID=20180818124741-5;ClientUser=Glenn;Production=False;udaAppLogFile=C:\\Users\\Glenn\\notebooks\\td-spark-python\\logs\\HelloWorld.20180818124741-5.log;UtilityName=PyTd;UtilityVersion=15.10.0.21;]\n"
     ]
    }
   ],
   "source": [
    "for row in session.execute(\"SELECT GetQueryBand()\"):\n",
    "    print(row)"
   ]
  },
  {
   "cell_type": "markdown",
   "metadata": {},
   "source": [
    "## Step 4+ Execute more queries..."
   ]
  },
  {
   "cell_type": "code",
   "execution_count": 10,
   "metadata": {},
   "outputs": [
    {
     "name": "stdout",
     "output_type": "stream",
     "text": [
      "Row 1: [1949-01, 112]\n",
      "Row 2: [1949-02, 118]\n",
      "Row 3: [1949-03, 132]\n",
      "Row 4: [1949-04, 129]\n",
      "Row 5: [1949-05, 121]\n",
      "Row 6: [1949-06, 135]\n",
      "Row 7: [1949-07, 148]\n",
      "Row 8: [1949-08, 148]\n",
      "Row 9: [1949-09, 136]\n",
      "Row 10: [1949-10, 119]\n",
      "Row 11: [1949-11, 104]\n",
      "Row 12: [1950-00, 118]\n",
      "Row 13: [1950-01, 115]\n",
      "Row 14: [1950-02, 126]\n",
      "Row 15: [1950-03, 141]\n",
      "Row 16: [1950-04, 135]\n",
      "Row 17: [1950-05, 125]\n",
      "Row 18: [1950-06, 149]\n",
      "Row 19: [1950-07, 170]\n",
      "Row 20: [1950-08, 170]\n",
      "Row 21: [1950-09, 158]\n",
      "Row 22: [1950-10, 133]\n",
      "Row 23: [1950-11, 114]\n",
      "Row 24: [1951-00, 140]\n",
      "Row 25: [1951-01, 145]\n",
      "Row 26: [1951-02, 150]\n",
      "Row 27: [1951-03, 178]\n",
      "Row 28: [1951-04, 163]\n",
      "Row 29: [1951-05, 172]\n",
      "Row 30: [1951-06, 178]\n",
      "Row 31: [1951-07, 199]\n",
      "Row 32: [1951-08, 199]\n",
      "Row 33: [1951-09, 184]\n",
      "Row 34: [1951-10, 162]\n",
      "Row 35: [1951-11, 146]\n",
      "Row 36: [1952-00, 166]\n",
      "Row 37: [1952-01, 171]\n",
      "Row 38: [1952-02, 180]\n",
      "Row 39: [1952-03, 193]\n",
      "Row 40: [1952-04, 181]\n",
      "Row 41: [1952-05, 183]\n",
      "Row 42: [1952-06, 218]\n",
      "Row 43: [1952-07, 230]\n",
      "Row 44: [1952-08, 242]\n",
      "Row 45: [1952-09, 209]\n",
      "Row 46: [1952-10, 191]\n",
      "Row 47: [1952-11, 172]\n",
      "Row 48: [1953-00, 194]\n",
      "Row 49: [1953-01, 196]\n",
      "Row 50: [1953-02, 196]\n",
      "Row 51: [1953-03, 236]\n",
      "Row 52: [1953-04, 235]\n",
      "Row 53: [1953-05, 229]\n",
      "Row 54: [1953-06, 243]\n",
      "Row 55: [1953-07, 264]\n",
      "Row 56: [1953-08, 272]\n",
      "Row 57: [1953-09, 237]\n",
      "Row 58: [1953-10, 211]\n",
      "Row 59: [1953-11, 180]\n",
      "Row 60: [1954-00, 201]\n",
      "Row 61: [1954-01, 204]\n",
      "Row 62: [1954-02, 188]\n",
      "Row 63: [1954-03, 235]\n",
      "Row 64: [1954-04, 227]\n",
      "Row 65: [1954-05, 234]\n",
      "Row 66: [1954-06, 264]\n",
      "Row 67: [1954-07, 302]\n",
      "Row 68: [1954-08, 293]\n",
      "Row 69: [1954-09, 259]\n",
      "Row 70: [1954-10, 229]\n",
      "Row 71: [1954-11, 203]\n",
      "Row 72: [1955-00, 229]\n",
      "Row 73: [1955-01, 242]\n",
      "Row 74: [1955-02, 233]\n",
      "Row 75: [1955-03, 267]\n",
      "Row 76: [1955-04, 269]\n",
      "Row 77: [1955-05, 270]\n",
      "Row 78: [1955-06, 315]\n",
      "Row 79: [1955-07, 364]\n",
      "Row 80: [1955-08, 347]\n",
      "Row 81: [1955-09, 312]\n",
      "Row 82: [1955-10, 274]\n",
      "Row 83: [1955-11, 237]\n",
      "Row 84: [1956-00, 278]\n",
      "Row 85: [1956-01, 284]\n",
      "Row 86: [1956-02, 277]\n",
      "Row 87: [1956-03, 317]\n",
      "Row 88: [1956-04, 313]\n",
      "Row 89: [1956-05, 318]\n",
      "Row 90: [1956-06, 374]\n",
      "Row 91: [1956-07, 413]\n",
      "Row 92: [1956-08, 405]\n",
      "Row 93: [1956-09, 355]\n",
      "Row 94: [1956-10, 306]\n",
      "Row 95: [1956-11, 271]\n",
      "Row 96: [1957-00, 306]\n",
      "Row 97: [1957-01, 315]\n",
      "Row 98: [1957-02, 301]\n",
      "Row 99: [1957-03, 356]\n",
      "Row 100: [1957-04, 348]\n",
      "Row 101: [1957-05, 355]\n",
      "Row 102: [1957-06, 422]\n",
      "Row 103: [1957-07, 465]\n",
      "Row 104: [1957-08, 467]\n",
      "Row 105: [1957-09, 404]\n",
      "Row 106: [1957-10, 347]\n",
      "Row 107: [1957-11, 305]\n",
      "Row 108: [1958-00, 336]\n",
      "Row 109: [1958-01, 340]\n",
      "Row 110: [1958-02, 318]\n",
      "Row 111: [1958-03, 362]\n",
      "Row 112: [1958-04, 348]\n",
      "Row 113: [1958-05, 363]\n",
      "Row 114: [1958-06, 435]\n",
      "Row 115: [1958-07, 491]\n",
      "Row 116: [1958-08, 505]\n",
      "Row 117: [1958-09, 404]\n",
      "Row 118: [1958-10, 359]\n",
      "Row 119: [1958-11, 310]\n",
      "Row 120: [1959-00, 337]\n",
      "Row 121: [1959-01, 360]\n",
      "Row 122: [1959-02, 342]\n",
      "Row 123: [1959-03, 406]\n",
      "Row 124: [1959-04, 396]\n",
      "Row 125: [1959-05, 420]\n",
      "Row 126: [1959-06, 472]\n",
      "Row 127: [1959-07, 548]\n",
      "Row 128: [1959-08, 559]\n",
      "Row 129: [1959-09, 463]\n",
      "Row 130: [1959-10, 407]\n",
      "Row 131: [1959-11, 362]\n",
      "Row 132: [1960-00, 405]\n",
      "Row 133: [1960-01, 417]\n",
      "Row 134: [1960-02, 391]\n",
      "Row 135: [1960-03, 419]\n",
      "Row 136: [1960-04, 461]\n",
      "Row 137: [1960-05, 472]\n",
      "Row 138: [1960-06, 535]\n",
      "Row 139: [1960-07, 622]\n",
      "Row 140: [1960-08, 606]\n",
      "Row 141: [1960-09, 508]\n",
      "Row 142: [1960-10, 461]\n",
      "Row 143: [1960-11, 390]\n",
      "Row 144: [1961-00, 432]\n"
     ]
    }
   ],
   "source": [
    "for row in session.execute('SELECT * from \"Samples\".\"AirPassengers\" ORDER BY \"Month\"'):\n",
    "    print(row)"
   ]
  },
  {
   "cell_type": "code",
   "execution_count": null,
   "metadata": {},
   "outputs": [],
   "source": []
  }
 ],
 "metadata": {
  "kernelspec": {
   "display_name": "Python 3",
   "language": "python",
   "name": "python3"
  },
  "language_info": {
   "codemirror_mode": {
    "name": "ipython",
    "version": 3
   },
   "file_extension": ".py",
   "mimetype": "text/x-python",
   "name": "python",
   "nbconvert_exporter": "python",
   "pygments_lexer": "ipython3",
   "version": "3.6.5"
  }
 },
 "nbformat": 4,
 "nbformat_minor": 2
}
