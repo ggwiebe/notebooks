{
 "cells": [
  {
   "cell_type": "code",
   "execution_count": null,
   "metadata": {},
   "outputs": [],
   "source": [
    "import sys\n",
    "spark_home = os.environ.get('SPARK_HOME', None)\n",
    "sys.path.insert(0, os.path.join(spark_home, 'python/lib/py4j-0.10.1-src.zip'))\n",
    "sys.path.insert(0, os.path.join(spark_home, 'python/lib/pyspark.zip'))\n",
    "filename = os.path.join(spark_home, 'python/pyspark/shell.py')\n",
    "print(os.environ.get('SPARK_HOME', None))\n",
    "exec(compile(open(filename, \"rb\").read(), filename, 'exec'))\n",
    "spark_release_file = spark_home + \"/RELEASE\"\n",
    "if os.path.exists(spark_release_file) and \"Spark 2\" in open(spark_release_file).read():\n",
    "    print(\"Spark is there.\")\n",
    "    argsstr= \"--master yarn-client --deploy-mode cluster pyspark-shell --driver-class-path /path/to/teradata/terajdbc4.jar,/path/to/teradata/tdgssconfig.jar --driver-library-path /path/to/teradata/terajdbc4.jar,/path/to/teradata/tdgssconfig.jar --jars /path/to/teradata/terajdbc4.jar,/path/to/teradata/tdgssconfig.jar\"\n",
    "    pyspark_submit_args = os.environ.get(\"PYSPARK_SUBMIT_ARGS\", argsstr)\n",
    "    if not \"pyspark-shell\" in pyspark_submit_args: \n",
    "        pyspark_submit_args += \" pyspark-shell\"\n",
    "    print(pyspark_submit_args)\n",
    "    os.environ[\"PYSPARK_SUBMIT_ARGS\"] = pyspark_submit_args\n",
    "    os.environ[\"SPARK_SUBMIT_ARGS\"] = pyspark_submit_args\n",
    "from pyspark.sql import SQLContext\n",
    "from pyspark import SparkConf, SparkContext\n",
    "url = 'jdbc:teradata://teradata.server.com'\n",
    "user='username'\n",
    "password=''\n",
    "driver = 'com.teradata.jdbc.TeraDriver'\n",
    "dbtable_read = 'mi_temp.bd_test_spark_read'\n",
    "sqlContext = SQLContext(sc)\n",
    "df = sqlContext.read.format(\"jdbc\").options(url=url, user=user, password=password, driver=driver, dbtable=dbtable_read).load()"
   ]
  }
 ],
 "metadata": {
  "kernelspec": {
   "display_name": "Python 3",
   "language": "python",
   "name": "python3"
  },
  "language_info": {
   "codemirror_mode": {
    "name": "ipython",
    "version": 3
   },
   "file_extension": ".py",
   "mimetype": "text/x-python",
   "name": "python",
   "nbconvert_exporter": "python",
   "pygments_lexer": "ipython3",
   "version": "3.6.5"
  }
 },
 "nbformat": 4,
 "nbformat_minor": 2
}
