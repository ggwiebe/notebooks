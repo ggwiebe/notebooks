{
 "cells": [
  {
   "cell_type": "code",
   "execution_count": null,
   "metadata": {},
   "outputs": [],
   "source": [
    "import os"
   ]
  },
  {
   "cell_type": "code",
   "execution_count": null,
   "metadata": {},
   "outputs": [],
   "source": [
    "import findspark\n",
    "findspark.init()"
   ]
  },
  {
   "cell_type": "code",
   "execution_count": null,
   "metadata": {},
   "outputs": [],
   "source": [
    "import pyspark # only run after findspark.init()\n",
    "from pyspark.sql import SparkSession\n",
    "spark = SparkSession.builder.getOrCreate()\n",
    "#spark = SparkSession.builder.appName('tdspark')\\\n",
    "#    .config('spark.jars.packages', 'org.apache.spark:terajdbc4:tdgssconfig')\\\n",
    "#    .getOrCreate()"
   ]
  },
  {
   "cell_type": "code",
   "execution_count": null,
   "metadata": {},
   "outputs": [],
   "source": [
    "import pandas as pd\n",
    "sc = spark.sparkContext"
   ]
  },
  {
   "cell_type": "code",
   "execution_count": null,
   "metadata": {},
   "outputs": [],
   "source": [
    "#os.environ['PYSPARK_SUBMIT_ARGS'] = '--jars terajdbc4.jar,tdgssconfig.jar pyspark-shell'\n",
    "### try SparkSession.builder above\n",
    "#os.environ['PYSPARK_SUBMIT_ARGS'] = '--jars C:\\\\Users\\\\Glenn\\\\notebooks\\\\Spark-Teradata\\\\terajdbc4.jar,C:\\\\Users\\\\Glenn\\\\notebooks\\\\Spark-Teradata\\\\tdgssconfig.jar pyspark-shell'"
   ]
  },
  {
   "cell_type": "code",
   "execution_count": null,
   "metadata": {},
   "outputs": [],
   "source": [
    "# The above os.environ command works\n",
    "# This spark context addJar does not work in interactive environment :-(\n",
    "#sc.addJar(\"terajdbc4.jar\")\n",
    "#sc.addJar(\"tdgssconfig.jar\")"
   ]
  },
  {
   "cell_type": "code",
   "execution_count": null,
   "metadata": {},
   "outputs": [],
   "source": [
    "from pyspark.sql import SQLContext\n",
    "from pyspark import SparkConf, SparkContext"
   ]
  },
  {
   "cell_type": "code",
   "execution_count": null,
   "metadata": {},
   "outputs": [],
   "source": [
    "#url=\"jdbc:teradata://localhost,TMODE=TERA,DBS_PORT=21025\"\n",
    "driver = \"com.teradata.jdbc.TeraDriver\"\n",
    "url=\"jdbc:teradata://localhost\"\n",
    "port=\"21025\"\n",
    "user=\"dbc\"\n",
    "password=\"dbc\"\n",
    "#dbtable_read = \"Samples.AirPassengers\"\n",
    "dbtable_read = \"Samples.ggwTable\"\n",
    "tmode = \"ANSI\"\n",
    "charset = \"UTF8\""
   ]
  },
  {
   "cell_type": "code",
   "execution_count": null,
   "metadata": {},
   "outputs": [],
   "source": [
    "sqlContext = SQLContext(sc)"
   ]
  },
  {
   "cell_type": "code",
   "execution_count": null,
   "metadata": {},
   "outputs": [],
   "source": [
    "#df = sqlContext.read.format(\"jdbc\")\\\n",
    "#    .option(\"driver\",driver)\\\n",
    "#    .option(\"url\",url)\\\n",
    "#    .option(\"dbs_port\",port)\\\n",
    "#    .option(\"user\",user)\\\n",
    "#    .option(\"password\",password)\\\n",
    "#    .option(\"dbtable\",dbtable_read)\\\n",
    "#    .load()\n",
    "#DBS_PORT\n",
    "df = sqlContext.read.format(\"jdbc\")\\\n",
    "    .options(url=url, user=user, password=password, driver=driver, dbtable=dbtable_read, tmode=tmode, charset=charset)\\\n",
    "    .load()"
   ]
  },
  {
   "cell_type": "code",
   "execution_count": 25,
   "metadata": {},
   "outputs": [
    {
     "name": "stdout",
     "output_type": "stream",
     "text": [
      "+---+--------------------+\n",
      "| ID|                Name|\n",
      "+---+--------------------+\n",
      "|  3|Charlotte        ...|\n",
      "|  1|Glenn            ...|\n",
      "|  4|Aidan            ...|\n",
      "|  2|Karen            ...|\n",
      "+---+--------------------+\n",
      "\n"
     ]
    }
   ],
   "source": [
    "df.show(n=100)"
   ]
  },
  {
   "cell_type": "code",
   "execution_count": null,
   "metadata": {},
   "outputs": [],
   "source": [
    "#from IPython.core.display import HTML\n",
    "#df.to_html()"
   ]
  },
  {
   "cell_type": "code",
   "execution_count": null,
   "metadata": {},
   "outputs": [],
   "source": [
    "#from io import StringIO\n",
    "#from tabulate import tabulate\n",
    "#print(tabulate(df))\n",
    "#, headers='keys', tablefmt='sql'))"
   ]
  }
 ],
 "metadata": {
  "kernelspec": {
   "display_name": "Python 3",
   "language": "python",
   "name": "python3"
  },
  "language_info": {
   "codemirror_mode": {
    "name": "ipython",
    "version": 3
   },
   "file_extension": ".py",
   "mimetype": "text/x-python",
   "name": "python",
   "nbconvert_exporter": "python",
   "pygments_lexer": "ipython3",
   "version": "3.6.5"
  }
 },
 "nbformat": 4,
 "nbformat_minor": 2
}
